{
 "cells": [
  {
   "cell_type": "code",
   "execution_count": 7,
   "id": "7e6809f4-d1c6-4959-b55a-a036343a096c",
   "metadata": {},
   "outputs": [
    {
     "name": "stdout",
     "output_type": "stream",
     "text": [
      "Total Number of Inversions: 14\n",
      "Solvable\n"
     ]
    }
   ],
   "source": [
    "# A utility function to count\n",
    "# inversions in given array 'arr[]'\n",
    "def getInvCount(arr):\n",
    "\tinv_count = 0\n",
    "\tempty_value = -1\n",
    "\tfor i in range(0, 9):\n",
    "\t\tfor j in range(i + 1, 9):\n",
    "\t\t\tif arr[j] != empty_value and arr[i] != empty_value and arr[i] > arr[j]:\n",
    "\t\t\t\tinv_count += 1\n",
    "\treturn inv_count\n",
    "    # This function returns true\n",
    "# if given 8 puzzle is solvable.\n",
    "def isSolvable(puzzle) :\n",
    " \n",
    "    # Count inversions in given 8 puzzle\n",
    "    inv_count = getInvCount([j for sub in puzzle for j in sub])\n",
    "    print(\"Total Number of Inversions:\", inv_count)\n",
    " \n",
    "    # return true if inversion count is even.\n",
    "    return (inv_count % 2 == 0)\n",
    "    # Main Code\n",
    "test1_puzzle = [[8, 1, 2],[-1, 4, 3],[7, 6, 5]] # -1 represent empty tile, this example is not solvable\n",
    "test2_puzzle = [[5, 2, 8],[4, 1, 7],[-1, 3, 6]] # this example is solvable\n",
    "\n",
    "if(isSolvable(test2_puzzle)) :\n",
    "    print(\"Solvable\")\n",
    "else :\n",
    "    print(\"Not Solvable\")"
   ]
  },
  {
   "cell_type": "code",
   "execution_count": null,
   "id": "7f71ae2d-9410-4af2-992d-c5dece03dbe7",
   "metadata": {},
   "outputs": [],
   "source": []
  }
 ],
 "metadata": {
  "kernelspec": {
   "display_name": "Python [conda env:base] *",
   "language": "python",
   "name": "conda-base-py"
  },
  "language_info": {
   "codemirror_mode": {
    "name": "ipython",
    "version": 3
   },
   "file_extension": ".py",
   "mimetype": "text/x-python",
   "name": "python",
   "nbconvert_exporter": "python",
   "pygments_lexer": "ipython3",
   "version": "3.12.7"
  }
 },
 "nbformat": 4,
 "nbformat_minor": 5
}
